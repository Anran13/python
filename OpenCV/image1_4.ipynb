{
 "cells": [
  {
   "cell_type": "markdown",
   "id": "e3cacc05",
   "metadata": {},
   "source": [
    "# Colors (continued)"
   ]
  },
  {
   "cell_type": "code",
   "execution_count": 11,
   "id": "62870d4e",
   "metadata": {},
   "outputs": [],
   "source": [
    "import cv2\n",
    "import numpy as np"
   ]
  },
  {
   "cell_type": "code",
   "execution_count": null,
   "id": "6011109f",
   "metadata": {},
   "outputs": [],
   "source": [
    "hsv_image = cv2.imread('image/astronaut_pixabay_hsv.png')\n",
    "hue, saturation, value = cv2.split(hsv_image)\n",
    "\n",
    "cv2.imshow(\"The HSV Image\", hsv_image)\n",
    "cv2.imwrite(\"image/astronaut_pixabay_hsv_hue.png\", hue)\n",
    "cv2.imwrite(\"image/astronaut_pixabay_hsv_sat.png\", saturation)\n",
    "cv2.imwrite(\"image/astronaut_pixabay_hsv_val.png\", value)\n",
    "\n",
    "# cv2.imshow('hsv', hue)\n",
    "# cv2.imshow('saturation', saturation)\n",
    "# cv2.imshow('value', value)\n",
    "\n",
    "hsv_image = cv2.merge([hue, saturation, value])   # 依據 H S V 順序合併\n",
    "cv2.imshow(\"The Merge Image\", hsv_image)\n",
    "\n",
    "hue.fill(200) # hue[:,:] = 200\n",
    "\n",
    "hsv_image = cv2.merge([hue, saturation, value])\n",
    "cv2.imshow(\"The Merge Image - hue = 200\", hsv_image)\n",
    "\n",
    "new_image = cv2.cvtColor(hsv_image, cv2.COLOR_HSV2BGR) # HSV 轉 BGR\n",
    "cv2.imshow(\"The New Image\", new_image)\n",
    "\n",
    "cv2.imwrite(\"image/astronaut_pixabay_hsv_hue_200_merge.png\", hsv_image)\n",
    "cv2.imwrite(\"image/astronaut_pixabay_hsv_hue_200_rgb.png\", new_image)\n",
    "\n",
    "cv2.waitKey(0)\n",
    "cv2.destroyAllWindows()"
   ]
  },
  {
   "cell_type": "code",
   "execution_count": 5,
   "id": "8344c578",
   "metadata": {},
   "outputs": [],
   "source": [
    "hsv_image = cv2.imread('image/astronaut_pixabay_hsv.png')\n",
    "hue, saturation, value = cv2.split(hsv_image)\n",
    "\n",
    "# saturation\n",
    "saturation.fill(255)\n",
    "\n",
    "hsv_image = cv2.merge([hue, saturation, value])\n",
    "cv2.imshow(\"The Merge Image - sat = 255\", hsv_image)\n",
    "\n",
    "new_image = cv2.cvtColor(hsv_image, cv2.COLOR_HSV2BGR) # HSV 轉 BGR\n",
    "cv2.imshow(\"The New Image\", new_image)\n",
    "\n",
    "cv2.imwrite(\"image/astronaut_pixabay_hsv_sat_255_merge.png\", hsv_image)\n",
    "cv2.imwrite(\"image/astronaut_pixabay_hsv_sat_255_rgb.png\", new_image)\n",
    "\n",
    "cv2.waitKey(0)\n",
    "cv2.destroyAllWindows()\n"
   ]
  },
  {
   "cell_type": "code",
   "execution_count": 8,
   "id": "58297966",
   "metadata": {},
   "outputs": [],
   "source": [
    "hsv_image = cv2.imread('image/astronaut_pixabay_hsv.png')\n",
    "hue, saturation, value = cv2.split(hsv_image)\n",
    "\n",
    "# value\n",
    "value.fill(255)\n",
    "\n",
    "hsv_image = cv2.merge([hue, saturation, value])\n",
    "cv2.imshow(\"The Merge Image - val = 255\", hsv_image)\n",
    "\n",
    "new_image = cv2.cvtColor(hsv_image, cv2.COLOR_HSV2BGR) # HSV 轉 BGR\n",
    "cv2.imshow(\"The New Image\", new_image)\n",
    "\n",
    "cv2.imwrite(\"image/astronaut_pixabay_hsv_val_255_merge.png\", hsv_image)\n",
    "cv2.imwrite(\"image/astronaut_pixabay_hsv_val_255_rgb.png\", new_image)\n",
    "\n",
    "cv2.waitKey(0)\n",
    "cv2.destroyAllWindows()"
   ]
  },
  {
   "cell_type": "code",
   "execution_count": null,
   "id": "427ac04c",
   "metadata": {},
   "outputs": [],
   "source": [
    "# Canny\n",
    "\n",
    "img = cv2.imread('image/astronaut_pixabay.png')\n",
    "img = cv2.resize(img, (0,0), fx=0.4, fy=0.4)\n",
    "gray = cv2.cvtColor(img, cv2.COLOR_BGR2GRAY)\n",
    "blur = cv2.GaussianBlur(img, (15,15), 10)\n",
    "canny = cv2.Canny(img, 100, 130)\n",
    "cv2.imwrite(\"image/astronaut_pixabay_canny.png\", canny)\n",
    "\n",
    "kernel1 = np.ones((100,100), np.uint8)\n",
    "dilate = cv2.dilate(canny, kernel1, iterations=5)\n",
    "\n",
    "kernel2 = np.ones((1,1), np.uint8)\n",
    "erode = cv2.erode(dilate, kernel2, iterations=1)\n",
    "cv2.imshow('img', canny)\n",
    "cv2.waitKey(0)\n",
    "cv2.destroyAllWindows()\n"
   ]
  }
 ],
 "metadata": {
  "kernelspec": {
   "display_name": "python-env",
   "language": "python",
   "name": "python3"
  },
  "language_info": {
   "codemirror_mode": {
    "name": "ipython",
    "version": 3
   },
   "file_extension": ".py",
   "mimetype": "text/x-python",
   "name": "python",
   "nbconvert_exporter": "python",
   "pygments_lexer": "ipython3",
   "version": "3.10.18"
  }
 },
 "nbformat": 4,
 "nbformat_minor": 5
}
