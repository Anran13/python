{
 "cells": [
  {
   "cell_type": "markdown",
   "id": "f4663485",
   "metadata": {},
   "source": [
    "## Basic usage \n",
    "# for loop"
   ]
  },
  {
   "cell_type": "code",
   "execution_count": 5,
   "id": "5939777f",
   "metadata": {},
   "outputs": [
    {
     "name": "stdout",
     "output_type": "stream",
     "text": [
      "I'm the 0 number!\n",
      "I'm the 1 number!\n",
      "I'm the 2 number!\n"
     ]
    }
   ],
   "source": [
    "# one dimension\n",
    "for i in range(3):\n",
    "    print(\"I'm the\", i, \"number!\")\n"
   ]
  },
  {
   "cell_type": "code",
   "execution_count": null,
   "id": "a0329ac1",
   "metadata": {},
   "outputs": [
    {
     "name": "stdout",
     "output_type": "stream",
     "text": [
      "15\n"
     ]
    }
   ],
   "source": [
    "# calculator\n",
    "# n = input(\"Please enter the integer number:\") # input your number to sum up\n",
    "n = [1,2,3,4,5]\n",
    "total = 0\n",
    "# for i in range(int(n)+1):\n",
    "for i in n:\n",
    "    total += i\n",
    "    # print(total)\n",
    "\n",
    "print(total)"
   ]
  },
  {
   "cell_type": "code",
   "execution_count": 16,
   "id": "ed3cbb8d",
   "metadata": {},
   "outputs": [
    {
     "name": "stdout",
     "output_type": "stream",
     "text": [
      "The probability of heads is 0.6\n"
     ]
    }
   ],
   "source": [
    "# calculate the probability of heads\n",
    "# add condition\n",
    "# n = int(input(\"Please enter the integer number:\"))\n",
    "import random \n",
    "heads = 1\n",
    "n = 5\n",
    "wins = 0\n",
    "#for i in range(n+1):\n",
    "for i in range(n):\n",
    "    #random_n = int((input(\"Enter a number:\")))\n",
    "    random_n = random.randint(1, 2)\n",
    "    if random_n == heads:\n",
    "        wins += 1\n",
    "print(\"The probability of heads is\", wins/n)"
   ]
  },
  {
   "cell_type": "code",
   "execution_count": 22,
   "id": "ebc9490f",
   "metadata": {},
   "outputs": [
    {
     "name": "stdout",
     "output_type": "stream",
     "text": [
      "[0, 0, 0]\n"
     ]
    }
   ],
   "source": [
    "a = [0 for _ in range(3)]\n",
    "print(a)"
   ]
  },
  {
   "cell_type": "code",
   "execution_count": 24,
   "id": "a5ffe6b6",
   "metadata": {},
   "outputs": [
    {
     "name": "stdout",
     "output_type": "stream",
     "text": [
      "[1, 4, 9, 16, 25]\n",
      "16\n",
      "[4, 9, 16]\n",
      "[1, 9, 25]\n",
      "[1, 4, 9, 16]\n",
      "[25, 16, 9, 4, 1]\n"
     ]
    }
   ],
   "source": [
    "# map function\n",
    "# map(function, iterable)\n",
    "a = list(map(lambda x: x**2, [1,2,3,4,5]))\n",
    "print(a)\n",
    "print(a[-2])\n",
    "print(a[1:4])\n",
    "print(a[::2])\n",
    "print(a[-5:-1])\n",
    "print(a[::-1])"
   ]
  },
  {
   "cell_type": "code",
   "execution_count": 25,
   "id": "68c57733",
   "metadata": {},
   "outputs": [
    {
     "name": "stdout",
     "output_type": "stream",
     "text": [
      "ell\n",
      "elPto\n",
      "Hloyhn\n",
      "nohtyPolleH\n"
     ]
    }
   ],
   "source": [
    "x = \"HelloPython\"\n",
    "print(x[1:4])\n",
    "print(x[1::2])\n",
    "print(x[0::2])\n",
    "print(x[::-1])"
   ]
  },
  {
   "cell_type": "code",
   "execution_count": 26,
   "id": "2170714f",
   "metadata": {},
   "outputs": [
    {
     "name": "stdout",
     "output_type": "stream",
     "text": [
      "1 * 1 = 1\n",
      "1 * 2 = 2\n",
      "1 * 3 = 3\n",
      "1 * 4 = 4\n",
      "1 * 5 = 5\n",
      "2 * 1 = 2\n",
      "2 * 2 = 4\n",
      "2 * 3 = 6\n",
      "2 * 4 = 8\n",
      "2 * 5 = 10\n",
      "3 * 1 = 3\n",
      "3 * 2 = 6\n",
      "3 * 3 = 9\n",
      "3 * 4 = 12\n",
      "3 * 5 = 15\n",
      "4 * 1 = 4\n",
      "4 * 2 = 8\n",
      "4 * 3 = 12\n",
      "4 * 4 = 16\n",
      "4 * 5 = 20\n",
      "5 * 1 = 5\n",
      "5 * 2 = 10\n",
      "5 * 3 = 15\n",
      "5 * 4 = 20\n",
      "5 * 5 = 25\n"
     ]
    }
   ],
   "source": [
    "# two dimension\n",
    "# multiplication table\n",
    "for x in range(1,6):\n",
    "    for y in range(1,6):\n",
    "        print(f\"{x} * {y} = {x*y}\")"
   ]
  },
  {
   "cell_type": "code",
   "execution_count": 32,
   "id": "f5d61dd0",
   "metadata": {},
   "outputs": [
    {
     "name": "stdout",
     "output_type": "stream",
     "text": [
      "Find the value 5\n"
     ]
    }
   ],
   "source": [
    "# query the list\n",
    "import random\n",
    "number_list = random.sample(range(1, 10), 5)\n",
    "# query = int(input(\"Please input a number from 1 to 10:\"))\n",
    "query = 5\n",
    "for i in range(len(number_list)):\n",
    "    if(number_list[i] == query):\n",
    "        print(\"Find the value\", query)\n"
   ]
  },
  {
   "cell_type": "code",
   "execution_count": 62,
   "id": "1354840b",
   "metadata": {},
   "outputs": [
    {
     "name": "stdout",
     "output_type": "stream",
     "text": [
      "[[0, 0, 0], [0, 0, 0], [0, 0, 0], [0, 0, 0]]\n",
      "[[0, 0, 0, 0], [0, 1, 2, 3], [0, 2, 4, 6]]\n",
      "[0, 0, 0, 0]\n",
      "[0, 1, 2, 3]\n",
      "[0, 2, 4, 6]\n"
     ]
    }
   ],
   "source": [
    "# create zero matrix\n",
    "x = [[0] * 3 for _ in range(4)]\n",
    "print(x)\n",
    "\n",
    "# create a matrix\n",
    "rows = 3\n",
    "cols = 4\n",
    "matrix = [[i * j for j in range(cols)] for i in range(rows)]\n",
    "print(matrix)\n",
    "\n",
    "for row in matrix:\n",
    "    print(row)\n",
    "   \n"
   ]
  },
  {
   "cell_type": "code",
   "execution_count": 65,
   "id": "98ae5195",
   "metadata": {},
   "outputs": [
    {
     "name": "stdout",
     "output_type": "stream",
     "text": [
      "[[0, 0, 0, 0], [0, 1, 2, 3], [0, 2, 4, 6]]\n",
      "0\n",
      "3\n",
      "6\n",
      "9\n"
     ]
    }
   ],
   "source": [
    "# calculate the sum of each column\n",
    "rows = 3\n",
    "cols = 4\n",
    "x = [[i * j for j in range(cols)] for i in range(rows)]\n",
    "print(x)\n",
    "\n",
    "for j in range(cols):\n",
    "    colSum = 0\n",
    "    for i in range(rows):\n",
    "        colSum += x[i][j]\n",
    "    print(colSum)"
   ]
  },
  {
   "cell_type": "code",
   "execution_count": 67,
   "id": "f7cf3dc9",
   "metadata": {},
   "outputs": [
    {
     "name": "stdout",
     "output_type": "stream",
     "text": [
      "depth: 0\n",
      "[0, 0, 0, 0]\n",
      "[0, 0, 0, 0]\n",
      "[0, 0, 0, 0]\n",
      "\n",
      "depth: 1\n",
      "[0, 0, 0, 0]\n",
      "[0, 0, 0, 0]\n",
      "[0, 0, 0, 0]\n",
      "\n"
     ]
    }
   ],
   "source": [
    "# create a 3D matrix\n",
    "# 3D matrix with 2 depth, 3 rows, and 4 columns\n",
    "rows = 3\n",
    "cols = 4\n",
    "dp = 2\n",
    "mat = []\n",
    "for k in range(dp):\n",
    "    depth = []\n",
    "    for i in range(rows):\n",
    "        row = []\n",
    "        for j in range(cols):\n",
    "            row.append(0)\n",
    "        depth.append(row)\n",
    "    mat.append(depth)\n",
    "    \n",
    "# print(mat)\n",
    "for col, mat in enumerate(mat):   \n",
    "    print(f\"depth: {col}\")\n",
    "    for i in mat:\n",
    "        print(i)\n",
    "    print()"
   ]
  },
  {
   "cell_type": "code",
   "execution_count": null,
   "id": "dcade164",
   "metadata": {},
   "outputs": [],
   "source": []
  }
 ],
 "metadata": {
  "kernelspec": {
   "display_name": "pydev",
   "language": "python",
   "name": "python3"
  },
  "language_info": {
   "codemirror_mode": {
    "name": "ipython",
    "version": 3
   },
   "file_extension": ".py",
   "mimetype": "text/x-python",
   "name": "python",
   "nbconvert_exporter": "python",
   "pygments_lexer": "ipython3",
   "version": "3.10.18"
  }
 },
 "nbformat": 4,
 "nbformat_minor": 5
}
