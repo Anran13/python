{
 "cells": [
  {
   "cell_type": "markdown",
   "id": "348dd916",
   "metadata": {},
   "source": [
    "# Colors"
   ]
  },
  {
   "cell_type": "code",
   "execution_count": 1,
   "id": "372be3ea",
   "metadata": {},
   "outputs": [],
   "source": [
    "import cv2\n",
    "import numpy as np\n",
    "import random"
   ]
  },
  {
   "cell_type": "code",
   "execution_count": 2,
   "id": "73534959",
   "metadata": {},
   "outputs": [],
   "source": [
    "img = cv2.imread('image/astronaut_pixabay.png')\n",
    "cv2.imshow(\"BGR Color Space\", img)\n",
    "\n",
    "img_hsv = cv2.cvtColor(img, cv2.COLOR_BGR2HSV)  # BGR轉HSV\n",
    "cv2.imwrite(\"image/astronaut_pixabay_hsv.png\", img_hsv)\n",
    "cv2.imshow(\"HSV Color Space\", img_hsv)\n",
    "cv2.waitKey(0)\n",
    "cv2.destroyAllWindows()"
   ]
  },
  {
   "cell_type": "markdown",
   "id": "7c2ba2f9",
   "metadata": {},
   "source": [
    "## Mask"
   ]
  },
  {
   "cell_type": "code",
   "execution_count": 27,
   "id": "dd697fd0",
   "metadata": {},
   "outputs": [
    {
     "name": "stdout",
     "output_type": "stream",
     "text": [
      "2\n",
      "[  6  85 105]\n",
      "[  6  85 105]\n",
      "找到 11 個符合顏色 [  6  85 105] 的像素位置\n",
      "部分座標範例： [[142 183]\n",
      " [146 307]\n",
      " [149 285]\n",
      " [159 286]\n",
      " [159 409]\n",
      " [159 410]\n",
      " [185 463]\n",
      " [303 353]\n",
      " [303 354]\n",
      " [307 412]]\n"
     ]
    },
    {
     "data": {
      "text/plain": [
       "True"
      ]
     },
     "execution_count": 27,
     "metadata": {},
     "output_type": "execute_result"
    }
   ],
   "source": [
    "# 目標顏色BGR\n",
    "img_rgb = cv2.cvtColor(img_hsv, cv2.COLOR_BGR2RGB) \n",
    "\n",
    "# transform to 2-dim\n",
    "pixels = img_rgb.reshape(-1, 3)\n",
    "print(pixels.ndim)\n",
    "\n",
    "unique_colors = np.unique(pixels, axis=0)\n",
    "print(unique_colors[100])\n",
    "\n",
    "target_color = np.array(unique_colors[100])\n",
    "print(target_color)\n",
    "# 設定顏色範圍，因為像素值可能有微小差異，設定±範圍\n",
    "lower = target_color - np.array([50, 50, 50])  # 下界\n",
    "upper = target_color + np.array([50, 50, 50])  # 上界\n",
    "\n",
    "# 確保範圍在0~255之間\n",
    "lower = np.clip(lower, 0, 255)\n",
    "upper = np.clip(upper, 0, 255)\n",
    "\n",
    "# 產生遮罩，找出符合顏色範圍的像素\n",
    "mask = cv2.inRange(img_hsv, lower, upper)\n",
    "\n",
    "# 找出符合顏色的像素座標 (y, x)\n",
    "positions = np.column_stack(np.where(mask > 0))\n",
    "\n",
    "print(f\"找到 {len(positions)} 個符合顏色 {target_color} 的像素位置\")\n",
    "print(\"部分座標範例：\", positions[:10])\n",
    "\n",
    "# 如果想在圖片上標記這些位置，可以用以下方式\n",
    "for (y, x) in positions:\n",
    "    cv2.circle(img, (x, y), 1, (0, 0, 255), -1)  # 用紅點標記\n",
    "\n",
    "cv2.imshow('Marked Image', img)\n",
    "cv2.waitKey(0)\n",
    "cv2.destroyAllWindows()\n",
    "\n",
    "cv2.imwrite(\"image/astronaut_pixabay_mark.png\", img)\n"
   ]
  },
  {
   "cell_type": "code",
   "execution_count": 28,
   "id": "5c089d8e",
   "metadata": {},
   "outputs": [
    {
     "name": "stdout",
     "output_type": "stream",
     "text": [
      "BGR  影像 : (640, 640, 3)\n",
      "B通道影像 : (640, 640)\n",
      "G通道影像 : (640, 640)\n",
      "R通道影像 : (640, 640)\n"
     ]
    }
   ],
   "source": [
    "# spit into blue, green, red\n",
    "img = cv2.imread('image/astronaut_pixabay.png')\n",
    "cv2.imshow('bgr', img)\n",
    "blue, green, red = cv2.split(img)\n",
    "cv2.imwrite(\"image/astronaut_pixabay_split_blue.png\", blue)\n",
    "cv2.imwrite(\"image/astronaut_pixabay_split_green.png\", green)\n",
    "cv2.imwrite(\"image/astronaut_pixabay_split_red.png\", red)\n",
    "cv2.imshow('blue', blue)\n",
    "cv2.imshow('green', green)\n",
    "cv2.imshow('red', red)\n",
    "\n",
    "print(f\"BGR  影像 : {img.shape}\")\n",
    "print(f\"B通道影像 : {blue.shape}\")\n",
    "print(f\"G通道影像 : {green.shape}\")\n",
    "print(f\"R通道影像 : {red.shape}\")\n",
    "\n",
    "# merge to the origin image\n",
    "bgr_image = cv2.merge([blue, green, red])   # 依據 B G R 順序合併\n",
    "cv2.imshow(\"B -> G -> R \", bgr_image)\n",
    "\n",
    "cv2.waitKey(0)\n",
    "cv2.destroyAllWindows()"
   ]
  }
 ],
 "metadata": {
  "kernelspec": {
   "display_name": "python-env",
   "language": "python",
   "name": "python3"
  },
  "language_info": {
   "codemirror_mode": {
    "name": "ipython",
    "version": 3
   },
   "file_extension": ".py",
   "mimetype": "text/x-python",
   "name": "python",
   "nbconvert_exporter": "python",
   "pygments_lexer": "ipython3",
   "version": "3.10.18"
  }
 },
 "nbformat": 4,
 "nbformat_minor": 5
}
