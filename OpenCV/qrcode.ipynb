{
 "cells": [
  {
   "cell_type": "markdown",
   "id": "d7ec7426",
   "metadata": {},
   "source": [
    "# create qrcode"
   ]
  },
  {
   "cell_type": "code",
   "execution_count": 1,
   "id": "638c9366",
   "metadata": {},
   "outputs": [],
   "source": [
    "import qrcode\n",
    "import qrcode.constants"
   ]
  },
  {
   "cell_type": "code",
   "execution_count": 4,
   "id": "5d15a8d6",
   "metadata": {},
   "outputs": [],
   "source": [
    "# data = 'https://traffic.tbkc.gov.tw/'\n",
    "data = 'Hello~'\n",
    "img = qrcode.make(data)\n",
    "img.show()\n",
    "img.save('image/qrcode.png')"
   ]
  },
  {
   "cell_type": "markdown",
   "id": "82224cb2",
   "metadata": {},
   "source": [
    "## design different type of qrcode"
   ]
  },
  {
   "cell_type": "code",
   "execution_count": 10,
   "id": "12361d02",
   "metadata": {},
   "outputs": [],
   "source": [
    "qr = qrcode.QRCode(version=10, error_correction=qrcode.constants.ERROR_CORRECT_L, box_size=20, border=4)\n",
    "qr.add_data(data)\n",
    "qr.make(fit=True)\n",
    "img = qr.make_image()\n",
    "img.show()\n",
    "img.save('image/qrcode2.png')\n",
    "\n",
    "img = qr.make_image(fill_color = 'yellow') # NOT WORK under this env!\n",
    "img.show()\n",
    "img.save('image/qrcode2-yellow.png')\n",
    "\n",
    "\n",
    "# red\n",
    "data = 'https://github.com/opencv'\n",
    "qr = qrcode.QRCode(version=5, error_correction=qrcode.constants.ERROR_CORRECT_L, box_size=20, border=4)\n",
    "qr.add_data(data)\n",
    "qr.make(fit=True)\n",
    "img = qr.make_image(fill_color=\"red\", back_color=\"black\")\n",
    "img.show()\n",
    "img.save('image/qrcode3.png')\n",
    "\n"
   ]
  },
  {
   "cell_type": "markdown",
   "id": "eb3f0550",
   "metadata": {},
   "source": [
    "## change type using built-in functions"
   ]
  },
  {
   "cell_type": "code",
   "execution_count": 25,
   "id": "96dfd5bf",
   "metadata": {},
   "outputs": [],
   "source": [
    "import qrcode\n",
    "from qrcode.image.styledpil import StyledPilImage\n",
    "from qrcode.image.styles.moduledrawers import RoundedModuleDrawer\n",
    "from qrcode.image.styles.moduledrawers.pil import GappedSquareModuleDrawer \n",
    "from qrcode.image.styles.colormasks import RadialGradiantColorMask\n",
    "\n",
    "img = qr.make_image(image_factory=StyledPilImage, module_drawer=GappedSquareModuleDrawer())\n",
    "img.save('image/qrcode4.png') \n",
    "\n",
    "# gradient colors\n",
    "img = qr.make_image(image_factory=StyledPilImage, color_mask=RadialGradiantColorMask((255,255,255),(255,0,0),(0,0,255)), module_drawer=RoundedModuleDrawer())\n",
    "img.save('image/qrcode5.png')\n"
   ]
  },
  {
   "cell_type": "code",
   "execution_count": null,
   "id": "dbf6479a",
   "metadata": {},
   "outputs": [],
   "source": [
    "import qrcode\n",
    "from qrcode.image.styledpil import StyledPilImage\n",
    "\n",
    "# put embedded image\n",
    "# we have to set error_correction=qrcode.constants.ERROR_CORRECT_H\n",
    "# or error_correction=qrcode.constants.ERROR_CORRECT_Q\n",
    "qr = qrcode.QRCode(\n",
    "    version=1,\n",
    "    error_correction=qrcode.constants.ERROR_CORRECT_H,\n",
    "    box_size=10,\n",
    "    border=4\n",
    ")\n",
    "qr.add_data('https://steam.oxxostudio.tw')\n",
    "qr.make(fit=True)\n",
    "\n",
    "img = qr.make_image(image_factory=StyledPilImage, embeded_image_path='image/python.png')\n",
    "img.show()\n",
    "img.save('image/qrcode6.png')\n",
    "\n"
   ]
  },
  {
   "cell_type": "code",
   "execution_count": 43,
   "id": "d8fd50e4",
   "metadata": {},
   "outputs": [],
   "source": [
    "# combinded the previous two examples\n",
    "import qrcode\n",
    "from qrcode.image.styledpil import StyledPilImage\n",
    "from qrcode.image.styles.colormasks import HorizontalGradiantColorMask\n",
    "from qrcode.image.styles.moduledrawers import RoundedModuleDrawer\n",
    "\n",
    "data = 'https://github.com/opencv'\n",
    "\n",
    "qr = qrcode.QRCode(version=5, error_correction=qrcode.constants.ERROR_CORRECT_H, box_size=20, border=4)\n",
    "qr.add_data(data)\n",
    "qr.make(fit=True)\n",
    "\n",
    "img = qr.make_image(image_factory=StyledPilImage, embeded_image_path='image/python_rotated.png', color_mask=HorizontalGradiantColorMask((255,255,255),(0,0,255),(255,255,0)), module_drawer=RoundedModuleDrawer())\n",
    "img.save('image/qrcode7.png')"
   ]
  },
  {
   "cell_type": "code",
   "execution_count": 41,
   "id": "ef20bb23",
   "metadata": {},
   "outputs": [
    {
     "data": {
      "text/plain": [
       "-1"
      ]
     },
     "execution_count": 41,
     "metadata": {},
     "output_type": "execute_result"
    },
    {
     "data": {
      "text/plain": [
       "<Figure size 1000x1000 with 0 Axes>"
      ]
     },
     "metadata": {},
     "output_type": "display_data"
    }
   ],
   "source": [
    "# rotated\n",
    "import cv2\n",
    "import matplotlib.pyplot as plt\n",
    "\n",
    "emb_img = cv2.imread('image/python.png')\n",
    "height, width = emb_img.shape[:2]\n",
    "center = (width/2, height/2)\n",
    "rotationMatrix = cv2.getRotationMatrix2D(center,45,1)\n",
    "rotated = cv2.warpAffine(emb_img, rotationMatrix,(height, width)) \n",
    "plt.figure(figsize=(10, 10))\n",
    "\n",
    "cv2.imwrite(\"image/python_rotated.png\", rotated)\n",
    "\n",
    "cv2.imshow('image', rotated)\n",
    "cv2.waitKey(0)"
   ]
  }
 ],
 "metadata": {
  "kernelspec": {
   "display_name": "python-env",
   "language": "python",
   "name": "python3"
  },
  "language_info": {
   "codemirror_mode": {
    "name": "ipython",
    "version": 3
   },
   "file_extension": ".py",
   "mimetype": "text/x-python",
   "name": "python",
   "nbconvert_exporter": "python",
   "pygments_lexer": "ipython3",
   "version": "3.10.18"
  }
 },
 "nbformat": 4,
 "nbformat_minor": 5
}
