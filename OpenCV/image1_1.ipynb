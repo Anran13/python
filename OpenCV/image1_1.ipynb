{
 "cells": [
  {
   "cell_type": "markdown",
   "id": "9d74da9c",
   "metadata": {},
   "source": [
    "# free images can be downloaded from [URI](https://pixabay.com/vectors/astronaut-night-sky-star-7059915/)\n"
   ]
  },
  {
   "cell_type": "code",
   "execution_count": 2,
   "id": "d218d030",
   "metadata": {},
   "outputs": [],
   "source": [
    "import cv2"
   ]
  },
  {
   "cell_type": "markdown",
   "id": "375cf542",
   "metadata": {},
   "source": [
    "# Image property"
   ]
  },
  {
   "cell_type": "code",
   "execution_count": 3,
   "id": "37e257c4",
   "metadata": {},
   "outputs": [
    {
     "name": "stdout",
     "output_type": "stream",
     "text": [
      "shape = (640, 640, 3)\n",
      "size  = 1228800\n",
      "dtype = uint8\n",
      "BGR = [0 0 0]\n",
      "BGR = 0, 0, 0\n"
     ]
    }
   ],
   "source": [
    "img = cv2.imread(\"image/astronaut_pixabay.png\")   \n",
    "cv2.imshow('image', img)\n",
    "cv2.waitKey(0)\n",
    "print(f\"shape = {img.shape}\")\n",
    "print(f\"size  = {img.size}\")\n",
    "print(f\"dtype = {img.dtype}\")\n",
    "print(f\"BGR = {img[100,100]}\")\n",
    "print(f\"BGR = {img[100,100,0]}, {img[100,100,1]}, {img[100,100,2]}\")"
   ]
  },
  {
   "cell_type": "code",
   "execution_count": 4,
   "id": "1d32ca4a",
   "metadata": {},
   "outputs": [],
   "source": [
    "# change to grey scale\n",
    "img = cv2.imread('image/astronaut_pixabay.png', cv2.IMREAD_GRAYSCALE)\n",
    "cv2.imwrite(\"image/astronaut_pixabay_grey.png\", img)\n",
    "cv2.imshow('grey', img)\n",
    "cv2.waitKey(0)\n",
    "cv2.destroyAllWindows()"
   ]
  },
  {
   "cell_type": "code",
   "execution_count": 5,
   "id": "2279ed5a",
   "metadata": {},
   "outputs": [
    {
     "name": "stdout",
     "output_type": "stream",
     "text": [
      "圖片中不同顏色數量：256\n",
      "部分顏色範例： [10 10 10]\n"
     ]
    }
   ],
   "source": [
    "# chane BGR to RGB\n",
    "img_rgb = cv2.cvtColor(img, cv2.COLOR_BGR2RGB) \n",
    "cv2.imshow('image_rgb', img_rgb)\n",
    "cv2.waitKey(0)\n",
    "cv2.destroyAllWindows()\n",
    "# transform to 2-dim\n",
    "pixels = img_rgb.reshape(-1, 3)\n",
    "\n",
    "import numpy as np\n",
    "# find different colors\n",
    "unique_colors = np.unique(pixels, axis=0)\n",
    "print(f\"圖片中不同顏色數量：{len(unique_colors)}\")\n",
    "print(\"部分顏色範例：\", unique_colors[10])"
   ]
  },
  {
   "cell_type": "code",
   "execution_count": 25,
   "id": "25a4c40c",
   "metadata": {},
   "outputs": [],
   "source": [
    "# add rectangle area\n",
    "\n",
    "import numpy as np\n",
    "\n",
    "img = cv2.imread('image/astronaut_pixabay.png')\n",
    "cv2.imshow(\"Before the change\", img)\n",
    "cv2.waitKey(0)\n",
    "cv2.destroyAllWindows()\n",
    "\n",
    "for y in range(img.shape[0]-350, img.shape[0]-300):\n",
    "    for x in range(img.shape[1]-150, img.shape[1]-100):\n",
    "        img[y, x] = [0, 0, 255]\n",
    "\n",
    "cv2.imshow(\"After the change\", img)\n",
    "cv2.imwrite(\"image/astronaut_pixabay_change.png\", img)\n",
    "cv2.waitKey(0)\n",
    "cv2.destroyAllWindows()"
   ]
  },
  {
   "cell_type": "code",
   "execution_count": 26,
   "id": "4cab2f67",
   "metadata": {},
   "outputs": [
    {
     "name": "stdout",
     "output_type": "stream",
     "text": [
      "Can't find the image!\n"
     ]
    }
   ],
   "source": [
    "# resize the image\n",
    "try:\n",
    "    img = cv2.resize(img, (0,0), fx=0.5, fy=0.5)\n",
    "    cv2.imwrite(\"image/astronaut_pixabay_resize.png\", img)\n",
    "    cv2.imshow('img1', img)\n",
    "    cv2.waitKey(0)\n",
    "    cv2.destroyAllWindos()\n",
    "except:\n",
    "    print(\"Can't find the image!\")"
   ]
  }
 ],
 "metadata": {
  "kernelspec": {
   "display_name": "python-env",
   "language": "python",
   "name": "python3"
  },
  "language_info": {
   "codemirror_mode": {
    "name": "ipython",
    "version": 3
   },
   "file_extension": ".py",
   "mimetype": "text/x-python",
   "name": "python",
   "nbconvert_exporter": "python",
   "pygments_lexer": "ipython3",
   "version": "3.10.18"
  }
 },
 "nbformat": 4,
 "nbformat_minor": 5
}
