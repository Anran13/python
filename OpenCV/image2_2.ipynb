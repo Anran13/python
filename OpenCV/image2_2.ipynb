{
 "cells": [
  {
   "cell_type": "markdown",
   "id": "5e19e0cd",
   "metadata": {},
   "source": [
    "# Contour"
   ]
  },
  {
   "cell_type": "code",
   "execution_count": 1,
   "id": "60f7063b",
   "metadata": {},
   "outputs": [],
   "source": [
    "import cv2\n"
   ]
  },
  {
   "cell_type": "code",
   "execution_count": 3,
   "id": "08dddf3a",
   "metadata": {},
   "outputs": [],
   "source": [
    "img = cv2.imread('image/astronaut_pixabay.png')\n",
    "imgContour = img.copy()\n",
    "canny = cv2.Canny(img, 150, 200)\n",
    "\n",
    "contours, hierarchy = cv2.findContours(canny, cv2.RETR_EXTERNAL, cv2.CHAIN_APPROX_NONE)\n",
    "for cnt in contours:\n",
    "    # print(cnt)\n",
    "    cv2.drawContours(imgContour, cnt, -1, (255, 0, 0), 4)\n",
    "    area = cv2.contourArea(cnt)\n",
    "    # print(area)\n",
    "    if area > 100 and area < 150:\n",
    "        peri = cv2.arcLength(cnt, True)\n",
    "        # print(peri)\n",
    "        vertices = cv2.approxPolyDP(cnt, peri * 0.02, True)\n",
    "        # print(len(vertices))\n",
    "        corners = len(vertices)\n",
    "\n",
    "        x, y, w, h = cv2.boundingRect(vertices)\n",
    "        cv2.rectangle(imgContour, (x, y), (x + w, y + h), (0, 255, 0), 4)\n",
    "\n",
    "        if corners == 3:\n",
    "            cv2.putText(imgContour, 'tiangle', (x, y - 5), cv2.FONT_HERSHEY_SIMPLEX, 1, (0, 0, 255), 2)\n",
    "        elif corners == 4:\n",
    "            cv2.putText(imgContour, 'rectangle', (x, y - 5), cv2.FONT_HERSHEY_SIMPLEX, 1, (0, 0, 255), 2)\n",
    "        elif corners == 5:\n",
    "            cv2.putText(imgContour, 'pentagon', (x, y - 5), cv2.FONT_HERSHEY_SIMPLEX, 1, (0, 0, 255), 2)\n",
    "        elif corners >= 6:\n",
    "            cv2.putText(imgContour, 'circle', (x, y - 5), cv2.FONT_HERSHEY_SIMPLEX, 1, (0, 0, 255), 2)\n",
    "\n",
    "cv2.imwrite(\"image/astronaut_pixabay_contour.png\", imgContour)\n",
    "\n",
    "cv2.imshow('img', img)\n",
    "cv2.waitKey(0)\n",
    "cv2.imshow('canny', canny)\n",
    "cv2.waitKey(0)\n",
    "\n",
    "cv2.imshow('imgContour', imgContour)\n",
    "cv2.waitKey(0)\n",
    "cv2.destroyAllWindows()"
   ]
  }
 ],
 "metadata": {
  "kernelspec": {
   "display_name": "python-env",
   "language": "python",
   "name": "python3"
  },
  "language_info": {
   "codemirror_mode": {
    "name": "ipython",
    "version": 3
   },
   "file_extension": ".py",
   "mimetype": "text/x-python",
   "name": "python",
   "nbconvert_exporter": "python",
   "pygments_lexer": "ipython3",
   "version": "3.10.18"
  }
 },
 "nbformat": 4,
 "nbformat_minor": 5
}
