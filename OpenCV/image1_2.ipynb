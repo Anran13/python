{
 "cells": [
  {
   "cell_type": "markdown",
   "id": "2b64c052",
   "metadata": {},
   "source": [
    "## image with package numpy"
   ]
  },
  {
   "cell_type": "code",
   "execution_count": 3,
   "id": "8819c743",
   "metadata": {},
   "outputs": [],
   "source": [
    "import cv2\n",
    "import numpy as np\n",
    "import random"
   ]
  },
  {
   "cell_type": "code",
   "execution_count": 5,
   "id": "5106e466",
   "metadata": {},
   "outputs": [],
   "source": [
    "# [B G R]\n",
    "\n",
    "rows = 300\n",
    "cols = 300\n",
    "img = np.zeros((rows, cols, 3), np.uint8)\n",
    "\n",
    "for row in range(rows):\n",
    "    for col in range(cols):\n",
    "        img[row][col] = [random.randint(0,255), random.randint(0,255), random.randint(0,255)]\n",
    "\n",
    "cv2.imwrite(\"image/mosaic.png\", img)\n",
    "cv2.imshow('test', img)\n",
    "cv2.waitKey(0)\n",
    "cv2.destroyAllWindows()"
   ]
  },
  {
   "cell_type": "code",
   "execution_count": 7,
   "id": "0829f508",
   "metadata": {},
   "outputs": [
    {
     "name": "stdout",
     "output_type": "stream",
     "text": [
      "[[[0 0 0]\n",
      "  [0 0 0]\n",
      "  [0 0 0]\n",
      "  ...\n",
      "  [0 0 0]\n",
      "  [0 0 0]\n",
      "  [0 0 0]]\n",
      "\n",
      " [[0 0 0]\n",
      "  [0 0 0]\n",
      "  [0 0 0]\n",
      "  ...\n",
      "  [0 0 0]\n",
      "  [0 0 0]\n",
      "  [0 0 0]]\n",
      "\n",
      " [[0 0 0]\n",
      "  [0 0 0]\n",
      "  [0 0 0]\n",
      "  ...\n",
      "  [0 0 0]\n",
      "  [0 0 0]\n",
      "  [0 0 0]]\n",
      "\n",
      " ...\n",
      "\n",
      " [[0 0 0]\n",
      "  [0 0 0]\n",
      "  [0 0 0]\n",
      "  ...\n",
      "  [0 0 0]\n",
      "  [0 0 0]\n",
      "  [0 0 0]]\n",
      "\n",
      " [[0 0 0]\n",
      "  [0 0 0]\n",
      "  [0 0 0]\n",
      "  ...\n",
      "  [0 0 0]\n",
      "  [0 0 0]\n",
      "  [0 0 0]]\n",
      "\n",
      " [[0 0 0]\n",
      "  [0 0 0]\n",
      "  [0 0 0]\n",
      "  ...\n",
      "  [0 0 0]\n",
      "  [0 0 0]\n",
      "  [0 0 0]]]\n",
      "[[[  0   0 255]\n",
      "  [  0   0 255]\n",
      "  [  0   0 255]\n",
      "  ...\n",
      "  [  0   0 255]\n",
      "  [  0   0 255]\n",
      "  [  0   0 255]]\n",
      "\n",
      " [[  0   0 255]\n",
      "  [  0   0 255]\n",
      "  [  0   0 255]\n",
      "  ...\n",
      "  [  0   0 255]\n",
      "  [  0   0 255]\n",
      "  [  0   0 255]]\n",
      "\n",
      " [[  0   0 255]\n",
      "  [  0   0 255]\n",
      "  [  0   0 255]\n",
      "  ...\n",
      "  [  0   0 255]\n",
      "  [  0   0 255]\n",
      "  [  0   0 255]]\n",
      "\n",
      " ...\n",
      "\n",
      " [[  0   0 255]\n",
      "  [  0   0 255]\n",
      "  [  0   0 255]\n",
      "  ...\n",
      "  [  0   0 255]\n",
      "  [  0   0 255]\n",
      "  [  0   0 255]]\n",
      "\n",
      " [[  0   0 255]\n",
      "  [  0   0 255]\n",
      "  [  0   0 255]\n",
      "  ...\n",
      "  [  0   0 255]\n",
      "  [  0   0 255]\n",
      "  [  0   0 255]]\n",
      "\n",
      " [[  0   0 255]\n",
      "  [  0   0 255]\n",
      "  [  0   0 255]\n",
      "  ...\n",
      "  [  0   0 255]\n",
      "  [  0   0 255]\n",
      "  [  0   0 255]]]\n"
     ]
    }
   ],
   "source": [
    "img = np.zeros((500, 500, 3), dtype='uint8')\n",
    "print(img)\n",
    "img[150:350, 150:350] = [0,0,255]\n",
    "print(img[150:170, 150:170])\n",
    "# print(img.size)\n",
    "\n",
    "cv2.imwrite(\"image/test1.jpg\", img)\n",
    "cv2.imshow(\"test1\", img)\n",
    "cv2.waitKey(0)\n",
    "cv2.destroyAllWindows()"
   ]
  },
  {
   "cell_type": "code",
   "execution_count": 9,
   "id": "b328f32f",
   "metadata": {},
   "outputs": [
    {
     "name": "stdout",
     "output_type": "stream",
     "text": [
      "(640, 640, 3)\n",
      "640\n"
     ]
    }
   ],
   "source": [
    "# astronaut with mosaic\n",
    "img = cv2.imread('image/astronaut_pixabay.png')\n",
    "print(img.shape)\n",
    "print(img.shape[1])\n",
    "\n",
    "for row in range(img.shape[0]-300, img.shape[0]-265):\n",
    "    for col in range(img.shape[1]):\n",
    "        img[row][col] = [random.randint(0,255), random.randint(0,255), random.randint(0,255)]\n",
    "\n",
    "cv2.imwrite(\"image/astronaut_pixabay_mosaic.png\", img)\n",
    "cv2.imshow('test', img)\n",
    "cv2.waitKey(0)\n",
    "cv2.destroyAllWindows()"
   ]
  },
  {
   "cell_type": "code",
   "execution_count": 10,
   "id": "eeb10415",
   "metadata": {},
   "outputs": [],
   "source": [
    "# plot simple synbols\n",
    "\n",
    "img = np.zeros((600, 600), np.uint8)\n",
    "cv2.rectangle(img, (0,0), (400, 200), (255,0,0), cv2.FILLED)\n",
    "cv2.line(img, (0,0), (img.shape[1], img.shape[0]), (255,0,0), 5)\n",
    "cv2.circle(img, (300, 400), 30, (255,0,0), cv2.FILLED)\n",
    "cv2.putText(img, 'Hello', (100, 500), cv2.FONT_HERSHEY_SIMPLEX, 1, (255, 255, 255), 2)\n",
    "cv2.imwrite(\"image/hello.png\", img)\n",
    "cv2.imshow('img', img)\n",
    "cv2.waitKey(0)\n",
    "cv2.destroyAllWindows()"
   ]
  }
 ],
 "metadata": {
  "kernelspec": {
   "display_name": "python-env",
   "language": "python",
   "name": "python3"
  },
  "language_info": {
   "codemirror_mode": {
    "name": "ipython",
    "version": 3
   },
   "file_extension": ".py",
   "mimetype": "text/x-python",
   "name": "python",
   "nbconvert_exporter": "python",
   "pygments_lexer": "ipython3",
   "version": "3.10.18"
  }
 },
 "nbformat": 4,
 "nbformat_minor": 5
}
