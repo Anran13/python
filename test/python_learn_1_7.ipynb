{
 "cells": [
  {
   "cell_type": "markdown",
   "id": "0a2872b8",
   "metadata": {},
   "source": [
    "## Call functions"
   ]
  },
  {
   "cell_type": "code",
   "execution_count": 3,
   "id": "971dd390",
   "metadata": {},
   "outputs": [],
   "source": [
    "def menu(wine:str, entree:str, dessert:str) -> None:\n",
    "    print(f\"wine:{wine}\")\n",
    "    print(f\"entree:{entree}\")\n",
    "    print(f\"dessert:{dessert}\")"
   ]
  },
  {
   "cell_type": "code",
   "execution_count": 6,
   "id": "fb1c0a21",
   "metadata": {},
   "outputs": [
    {
     "name": "stdout",
     "output_type": "stream",
     "text": [
      "wine:wine\n",
      "entree:entree\n",
      "dessert:dessert\n",
      "\n",
      "\n",
      "wine:wine\n",
      "entree:entree\n",
      "dessert:dessert\n"
     ]
    }
   ],
   "source": [
    "menu(wine='wine', entree='entree', dessert='dessert')\n",
    "print(\"\\n\")\n",
    "menu('wine', 'entree', 'dessert')"
   ]
  },
  {
   "cell_type": "code",
   "execution_count": 7,
   "id": "de6ecfc8",
   "metadata": {},
   "outputs": [
    {
     "name": "stdout",
     "output_type": "stream",
     "text": [
      "(1, 2, 3, 'a', 'b', True)\n"
     ]
    }
   ],
   "source": [
    "def print_args(*args):\n",
    "    # tuple\n",
    "    print(args)\n",
    "\n",
    "print_args(1,2,3,'a','b', True)"
   ]
  },
  {
   "cell_type": "code",
   "execution_count": 8,
   "id": "38429519",
   "metadata": {},
   "outputs": [
    {
     "name": "stdout",
     "output_type": "stream",
     "text": [
      "{'one': 1, 'two': 2, 'three': 3}\n"
     ]
    }
   ],
   "source": [
    "def print_args(**args):\n",
    "    # dictionary\n",
    "    print(args)\n",
    "\n",
    "print_args(one=1, two=2, three=3)"
   ]
  },
  {
   "cell_type": "code",
   "execution_count": null,
   "id": "c1af1331",
   "metadata": {},
   "outputs": [
    {
     "name": "stdout",
     "output_type": "stream",
     "text": [
      "(1, 2, 3, 'a', 'b', 'c', True, False)\n",
      "{'one': 1, 'two': 2, 'three': 3, 'four': 4, 'five': 5}\n",
      "1-2-3-a-b-c-True-False ~The End~\n"
     ]
    }
   ],
   "source": [
    "def print_args(*args1,**args2):\n",
    "    print(args1)\n",
    "    print(args2)\n",
    "\n",
    "print_args(1, 2, 3, 'a', 'b', 'c', True, False,one=1, two=2, three=3, four=4, five=5)\n",
    "\n",
    "print(1, 2, 3, 'a', 'b', 'c', True, False, end=' ~The End~\\n', sep='-')"
   ]
  }
 ],
 "metadata": {
  "kernelspec": {
   "display_name": "python-env",
   "language": "python",
   "name": "python3"
  },
  "language_info": {
   "codemirror_mode": {
    "name": "ipython",
    "version": 3
   },
   "file_extension": ".py",
   "mimetype": "text/x-python",
   "name": "python",
   "nbconvert_exporter": "python",
   "pygments_lexer": "ipython3",
   "version": "3.10.18"
  }
 },
 "nbformat": 4,
 "nbformat_minor": 5
}
