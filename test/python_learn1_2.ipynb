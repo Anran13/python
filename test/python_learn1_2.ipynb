{
 "cells": [
  {
   "cell_type": "markdown",
   "id": "e4bc53f9",
   "metadata": {},
   "source": [
    "# git and miniconda \n",
    "# test\n",
    "# will install junpyter kernel for the first execution"
   ]
  },
  {
   "cell_type": "code",
   "execution_count": 2,
   "id": "18bbf4e7",
   "metadata": {},
   "outputs": [
    {
     "name": "stdout",
     "output_type": "stream",
     "text": [
      "Hello! Function~\n"
     ]
    }
   ],
   "source": [
    "print(\"Hello! Function~\")"
   ]
  },
  {
   "cell_type": "code",
   "execution_count": 11,
   "id": "1ece079c",
   "metadata": {},
   "outputs": [
    {
     "name": "stdout",
     "output_type": "stream",
     "text": [
      "{'__name__': '__main__', '__doc__': 'Automatically created module for IPython interactive environment', '__package__': None, '__loader__': None, '__spec__': None, '__builtin__': <module 'builtins' (built-in)>, '__builtins__': <module 'builtins' (built-in)>, '_ih': ['', 'print(\"Hellow! Function~\")', 'print(\"Hello! Function~\")', 'print(4000 * 0.5)', 'print(1000 * 0.5)', 'print(100 * 0.5)', 'print(__name__)', 'print(__name__)\\nprint(type(__name__))', 'print(__name__)\\nprint(type(__name__))\\n\\ndef main():\\n    print(\"Main function!\")\\n\\nif __name__ == \\'__main__\\':\\n    main()', 'print(__name__)\\nprint(type(__name__))\\n\\ndef main():\\n    print(\"Main function!\")\\n\\n# startin from the main function\\nif __name__ == \\'__main__\\':\\n    main()', 'vars()\\nprint(__name__)\\nprint(type(__name__))\\n\\ndef main():\\n    print(\"Main function!\")\\n\\n# startin from the main function\\nif __name__ == \\'__main__\\':\\n    main()', 'print(vars())\\nprint(__name__)\\nprint(type(__name__))\\n\\ndef main():\\n    print(\"Main function!\")\\n\\n# startin from the main function\\nif __name__ == \\'__main__\\':\\n    main()'], '_oh': {}, '_dh': [WindowsPath('c:/Users/s0983/Documents/github/python/test')], 'In': ['', 'print(\"Hellow! Function~\")', 'print(\"Hello! Function~\")', 'print(4000 * 0.5)', 'print(1000 * 0.5)', 'print(100 * 0.5)', 'print(__name__)', 'print(__name__)\\nprint(type(__name__))', 'print(__name__)\\nprint(type(__name__))\\n\\ndef main():\\n    print(\"Main function!\")\\n\\nif __name__ == \\'__main__\\':\\n    main()', 'print(__name__)\\nprint(type(__name__))\\n\\ndef main():\\n    print(\"Main function!\")\\n\\n# startin from the main function\\nif __name__ == \\'__main__\\':\\n    main()', 'vars()\\nprint(__name__)\\nprint(type(__name__))\\n\\ndef main():\\n    print(\"Main function!\")\\n\\n# startin from the main function\\nif __name__ == \\'__main__\\':\\n    main()', 'print(vars())\\nprint(__name__)\\nprint(type(__name__))\\n\\ndef main():\\n    print(\"Main function!\")\\n\\n# startin from the main function\\nif __name__ == \\'__main__\\':\\n    main()'], 'Out': {}, 'get_ipython': <bound method InteractiveShell.get_ipython of <ipykernel.zmqshell.ZMQInteractiveShell object at 0x000002A24FE9AEC0>>, 'exit': <IPython.core.autocall.ZMQExitAutocall object at 0x000002A24FE9B970>, 'quit': <IPython.core.autocall.ZMQExitAutocall object at 0x000002A24FE9B970>, 'open': <function open at 0x000002A24E81B520>, '_': '', '__': '', '___': '', '__vsc_ipynb_file__': 'c:\\\\Users\\\\s0983\\\\Documents\\\\github\\\\python\\\\test\\\\python_learn1_2.ipynb', '_i': 'vars()\\nprint(__name__)\\nprint(type(__name__))\\n\\ndef main():\\n    print(\"Main function!\")\\n\\n# startin from the main function\\nif __name__ == \\'__main__\\':\\n    main()', '_ii': 'print(__name__)\\nprint(type(__name__))\\n\\ndef main():\\n    print(\"Main function!\")\\n\\n# startin from the main function\\nif __name__ == \\'__main__\\':\\n    main()', '_iii': 'print(__name__)\\nprint(type(__name__))\\n\\ndef main():\\n    print(\"Main function!\")\\n\\nif __name__ == \\'__main__\\':\\n    main()', '_i1': 'print(\"Hellow! Function~\")', '_i2': 'print(\"Hello! Function~\")', '_i3': 'print(4000 * 0.5)', '_i4': 'print(1000 * 0.5)', '_i5': 'print(100 * 0.5)', '_i6': 'print(__name__)', '_i7': 'print(__name__)\\nprint(type(__name__))', '_i8': 'print(__name__)\\nprint(type(__name__))\\n\\ndef main():\\n    print(\"Main function!\")\\n\\nif __name__ == \\'__main__\\':\\n    main()', 'main': <function main at 0x000002A24FEFCF70>, '_i9': 'print(__name__)\\nprint(type(__name__))\\n\\ndef main():\\n    print(\"Main function!\")\\n\\n# startin from the main function\\nif __name__ == \\'__main__\\':\\n    main()', '_i10': 'vars()\\nprint(__name__)\\nprint(type(__name__))\\n\\ndef main():\\n    print(\"Main function!\")\\n\\n# startin from the main function\\nif __name__ == \\'__main__\\':\\n    main()', '_i11': 'print(vars())\\nprint(__name__)\\nprint(type(__name__))\\n\\ndef main():\\n    print(\"Main function!\")\\n\\n# startin from the main function\\nif __name__ == \\'__main__\\':\\n    main()'}\n",
      "__main__\n",
      "<class 'str'>\n",
      "Main function!\n"
     ]
    }
   ],
   "source": [
    "print(vars())\n",
    "print(__name__)\n",
    "print(type(__name__))\n",
    "\n",
    "def main():\n",
    "    print(\"Main function!\")\n",
    "\n",
    "# startin from the main function\n",
    "if __name__ == '__main__':\n",
    "    main()"
   ]
  }
 ],
 "metadata": {
  "kernelspec": {
   "display_name": "python-env",
   "language": "python",
   "name": "python3"
  },
  "language_info": {
   "codemirror_mode": {
    "name": "ipython",
    "version": 3
   },
   "file_extension": ".py",
   "mimetype": "text/x-python",
   "name": "python",
   "nbconvert_exporter": "python",
   "pygments_lexer": "ipython3",
   "version": "3.10.18"
  }
 },
 "nbformat": 4,
 "nbformat_minor": 5
}
