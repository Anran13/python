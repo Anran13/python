{
 "cells": [
  {
   "cell_type": "markdown",
   "id": "e4bc53f9",
   "metadata": {},
   "source": [
    "# git and miniconda \n",
    "# test\n",
    "# will install junpyter kernel for the first execution"
   ]
  },
  {
   "cell_type": "code",
   "execution_count": 2,
   "id": "18bbf4e7",
   "metadata": {},
   "outputs": [
    {
     "name": "stdout",
     "output_type": "stream",
     "text": [
      "Hello! Function~\n"
     ]
    }
   ],
   "source": [
    "print(\"Hello! Function~\")"
   ]
  }
 ],
 "metadata": {
  "kernelspec": {
   "display_name": "python-env",
   "language": "python",
   "name": "python3"
  },
  "language_info": {
   "codemirror_mode": {
    "name": "ipython",
    "version": 3
   },
   "file_extension": ".py",
   "mimetype": "text/x-python",
   "name": "python",
   "nbconvert_exporter": "python",
   "pygments_lexer": "ipython3",
   "version": "3.10.18"
  }
 },
 "nbformat": 4,
 "nbformat_minor": 5
}
