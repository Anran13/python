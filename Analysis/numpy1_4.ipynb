{
 "cells": [
  {
   "cell_type": "markdown",
   "id": "94e31b84",
   "metadata": {},
   "source": [
    "# packages > module > function\n",
    "\n",
    "   ```python\n",
    "   import _package_or_module_or_function\n",
    "   ```\n",
    "\n",
    "   1. package\n",
    "   ```python\n",
    "   import numpy as np\n",
    "   ```\n",
    "\n",
    "   2. module\n",
    "   ```python\n",
    "   import matplotlib.pyplot as plt\n",
    "   ```\n",
    "\n",
    "   3. function\n",
    "   ```python\n",
    "   from numpy.random import random\n",
    "   ```"
   ]
  },
  {
   "cell_type": "code",
   "execution_count": 5,
   "id": "2ba83b54",
   "metadata": {},
   "outputs": [
    {
     "name": "stdout",
     "output_type": "stream",
     "text": [
      "0.5346087793325548\n",
      "[0.02755566 0.46728511 0.3991756 ]\n",
      "[[0.37051866 0.40773355 0.31430468 0.28698031]\n",
      " [0.62799666 0.3286379  0.42546859 0.98954672]\n",
      " [0.73258836 0.68462399 0.01550483 0.19858377]]\n"
     ]
    }
   ],
   "source": [
    "import numpy as np\n",
    "print(np.random.random())\n",
    "print(np.random.random(size=3))\n",
    "print(np.random.random(size=(3,4)))"
   ]
  },
  {
   "cell_type": "code",
   "execution_count": 12,
   "id": "74910448",
   "metadata": {},
   "outputs": [
    {
     "name": "stdout",
     "output_type": "stream",
     "text": [
      "<class 'numpy.ndarray'>\n",
      "2\n",
      "12\n",
      "(3, 4)\n",
      "float64\n",
      "[[-0.12449375 -0.50433758  0.5976375  -0.23326571]\n",
      " [-1.07767515  1.02512553  0.34346067 -2.60358852]\n",
      " [ 0.85881286  0.18038721 -1.00139788 -0.72813882]]\n",
      "\n",
      "\n",
      "[[-0.06224687 -0.25216879  0.29881875 -0.11663286]\n",
      " [-0.53883758  0.51256276  0.17173034 -1.30179426]\n",
      " [ 0.42940643  0.0901936  -0.50069894 -0.36406941]]\n",
      "\n",
      "\n",
      "-3.26747364944873\n",
      "[-0.34335604  0.70117516 -0.06029971 -3.56499306]\n",
      "[-0.26445954 -2.31267747 -0.69033664]\n"
     ]
    }
   ],
   "source": [
    "from numpy.random import normal\n",
    "\n",
    "normal_dist = normal(loc=0, scale=1, size=(3,4))\n",
    "print(type(normal_dist))\n",
    "print(normal_dist.ndim)\n",
    "print(normal_dist.size)\n",
    "print(normal_dist.shape)\n",
    "print(normal_dist.dtype)\n",
    "print(normal_dist)\n",
    "print('\\n')\n",
    "beta = 0.5\n",
    "print(normal_dist * beta)\n",
    "print('\\n')\n",
    "print(normal_dist.sum())\n",
    "print(normal_dist.sum(axis=0)) # column\n",
    "print(normal_dist.sum(axis=1)) # row\n",
    "\n"
   ]
  },
  {
   "cell_type": "code",
   "execution_count": 76,
   "id": "4b726295",
   "metadata": {},
   "outputs": [
    {
     "name": "stdout",
     "output_type": "stream",
     "text": [
      "      MATH  ENG  BIO  PHY  GEO\n",
      "PH46    76   75   93   73   52\n",
      "PH47    90   51   75   77   64\n",
      "PH48    54   77   92   53   67\n",
      "PH49    97   82   63   98   91\n",
      "PH50    80   85   69   98   59\n",
      "======================================\n",
      "SUBJECT  MATH  ENG  BIO  PHY  GEO\n",
      "ID                               \n",
      "PH46       76   75   93   73   52\n",
      "PH47       90   51   75   77   64\n",
      "PH48       54   77   92   53   67\n",
      "PH49       97   82   63   98   91\n",
      "PH50       80   85   69   98   59\n",
      "======================================\n",
      "SUBJECT   MATH    ENG   BIO    PHY    GEO\n",
      "MEAN     77.32  76.54  76.3  75.32  76.64\n",
      "======================================\n",
      "SUBJECT   MATH    ENG   BIO    PHY    GEO\n",
      "PH46     76.00  75.00  93.0  73.00  52.00\n",
      "PH47     90.00  51.00  75.0  77.00  64.00\n",
      "PH48     54.00  77.00  92.0  53.00  67.00\n",
      "PH49     97.00  82.00  63.0  98.00  91.00\n",
      "PH50     80.00  85.00  69.0  98.00  59.00\n",
      "MEAN     77.32  76.54  76.3  75.32  76.64\n",
      "======================================\n",
      "         0\n",
      "ID        \n",
      "PH46  73.8\n",
      "PH47  71.4\n",
      "PH48  68.6\n",
      "PH49  86.2\n",
      "PH50  78.2\n",
      "======================================\n",
      "       MATH    ENG   BIO    PHY    GEO     0\n",
      "PH47  90.00  51.00  75.0  77.00  64.00  71.4\n",
      "PH48  54.00  77.00  92.0  53.00  67.00  68.6\n",
      "PH49  97.00  82.00  63.0  98.00  91.00  86.2\n",
      "PH50  80.00  85.00  69.0  98.00  59.00  78.2\n",
      "MEAN  77.32  76.54  76.3  75.32  76.64   NaN\n"
     ]
    }
   ],
   "source": [
    "from numpy import random\n",
    "import pandas as pd\n",
    "\n",
    "random.seed(1234)\n",
    "student_num = 50\n",
    "\n",
    "scores = random.randint(50, 101, size=(student_num, 5))\n",
    "df = pd.DataFrame(scores, columns=['MATH','ENG','BIO','PHY','GEO'], index=[f\"PH{x}\" for x in range(1, student_num + 1)])\n",
    "print(df.tail(5))\n",
    "print('======================================')\n",
    "\n",
    "df.columns.name = 'SUBJECT'\n",
    "df.index.name = 'ID'\n",
    "print(df.tail(5))\n",
    "print('======================================')\n",
    "\n",
    "# calculate every subject's average\n",
    "subject_mean = df.mean().to_frame('MEAN').T\n",
    "print(subject_mean)\n",
    "print('======================================')\n",
    "\n",
    "# combine the data frame\n",
    "combined_df = pd.concat([df, subject_mean])\n",
    "print(combined_df.tail(6))\n",
    "print('======================================')\n",
    "\n",
    "# calculate every student's average scores\n",
    "student_mean = df.mean(axis=1).to_frame()\n",
    "print(student_mean.tail(5))\n",
    "print('======================================')\n",
    "\n",
    "combined_df = pd.concat([combined_df, student_mean],axis=1)\n",
    "print(combined_df.tail(5))\n",
    "\n",
    "# print((80+85+69+98+59)/5) # 78.2"
   ]
  }
 ],
 "metadata": {
  "kernelspec": {
   "display_name": "python-env",
   "language": "python",
   "name": "python3"
  },
  "language_info": {
   "codemirror_mode": {
    "name": "ipython",
    "version": 3
   },
   "file_extension": ".py",
   "mimetype": "text/x-python",
   "name": "python",
   "nbconvert_exporter": "python",
   "pygments_lexer": "ipython3",
   "version": "3.10.18"
  }
 },
 "nbformat": 4,
 "nbformat_minor": 5
}
